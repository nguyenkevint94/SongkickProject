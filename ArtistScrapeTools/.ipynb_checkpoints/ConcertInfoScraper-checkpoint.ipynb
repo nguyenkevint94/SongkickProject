{
 "cells": [
  {
   "cell_type": "code",
   "execution_count": null,
   "metadata": {},
   "outputs": [],
   "source": [
    "# Dependencies\n",
    "import pandas as pd\n",
    "import re\n",
    "import requests\n",
    "from bs4 import BeautifulSoup as bs\n",
    "from splinter import Browser\n",
    "import requests\n",
    "import math\n",
    "from pprint import pprint"
   ]
  },
  {
   "cell_type": "code",
   "execution_count": null,
   "metadata": {},
   "outputs": [],
   "source": [
    "search_artist = input(\"Which artist would you like to know more about? \")"
   ]
  },
  {
   "cell_type": "code",
   "execution_count": null,
   "metadata": {},
   "outputs": [],
   "source": [
    "# Chrome driver\n",
    "executable_path = {\"executable_path\": \"chromedriver\"}\n",
    "browser = Browser(\"chrome\", **executable_path, headless=False)\n",
    "# Test url \n",
    "url = \"https://www.songkick.com/search?utf8=✓&type=initial&query=\"\n",
    "artist = search_artist\n",
    "artist = artist.replace(\" \", \"+\")\n",
    "query_url = url + artist\n",
    "browser.visit(query_url)\n",
    "html = browser.html\n",
    "soup = bs(html, \"html.parser\")\n",
    "# Find the href for the URL with the page link\n",
    "container = soup.find(\"div\", class_=\"sticky-container\")\n",
    "row = container.find(\"div\", class_=\"row\")\n",
    "col = row.find(\"div\", class_=\"col-8 primary\")\n",
    "ul = col.find(\"ul\")\n",
    "page_link = ul.find(\"a\", class_=\"thumb\")[\"href\"]\n",
    "# Artist page URL \n",
    "website_url = \"https://www.songkick.com\"\n",
    "artist_page = website_url + page_link\n",
    "browser.visit(artist_page)\n",
    "html = browser.html\n",
    "soup = bs(html, \"html.parser\")\n",
    "\"\"\"\n",
    "This function is to parse out content using a regular expression pattern from a string.\n",
    "<param>regex_pattern</param>\n",
    "<param>string</param>\n",
    "\"\"\"\n",
    "def parse_definition(regex_pattern, string):\n",
    "    result = re.compile(regex_pattern, flags=re.MULTILINE|re.DOTALL)\n",
    "    # Checking if the patten works for the string\n",
    "    if not result.search(string):\n",
    "        return \"None\"\n",
    "    else:\n",
    "        return result.search(string).group(1)\n",
    "\n",
    "# Running the function\n",
    "regex_pattern = \"analytics_label:\\s*'(\\d+)'\"\n",
    "artist_code = parse_definition(regex_pattern, str(soup))\n",
    "artist_code"
   ]
  },
  {
   "cell_type": "code",
   "execution_count": null,
   "metadata": {},
   "outputs": [],
   "source": [
    "api_key = \"ORhDmrgUGkhdnXgP\"\n",
    "\n",
    "base_artist = []\n",
    "base_artist.append(artist_code)\n",
    "event_name = []\n",
    "popularity = []\n",
    "location = []\n",
    "longitude = []\n",
    "latitude = []\n",
    "city = []\n",
    "start_date = []\n",
    "start_time = []\n",
    "for x in range(len(base_artist)):\n",
    "    base_url = \"https://api.songkick.com/api/3.0/artists/\"+str(base_artist[x])+\"/gigography.json?apikey=\"+api_key+\"&page=1\"\n",
    "    base_artist_2 = base_artist[x]\n",
    "    total_entries = requests.get(base_url).json()['resultsPage']['totalEntries']\n",
    "    pages = total_entries/50\n",
    "    total_pages = math.ceil(pages)\n",
    "    print('PRINTING EVENTS FOR ARTIST: ' + str(base_artist[x]))\n",
    "    counter = 1\n",
    "    \n",
    "    for y in range(total_pages):\n",
    "        artist_url = \"https://api.songkick.com/api/3.0/artists/\"+str(base_artist_2)+\"/gigography.json?apikey=\"+api_key+\"&page=\"+(str(y+1))\n",
    "        artist_json = requests.get(artist_url).json()\n",
    "        for x in artist_json['resultsPage']['results']['event']:\n",
    "            print('----------------------')\n",
    "            print(\"Event \" + str(counter))\n",
    "            event_name.append(str(x['displayName']))\n",
    "            print(\"Event Name: \" + str(x['displayName']))\n",
    "            popularity.append(str(x['popularity']))\n",
    "            print(\"Popularity: \" + str(x['popularity']))\n",
    "            location.append(str(x['venue']['displayName']))\n",
    "            print(\"Location: \" + str(x['venue']['displayName']))\n",
    "            longitude.append(str(x['venue']['lng']))\n",
    "            print(\"Longitude: \" + str(x['venue']['lat']))\n",
    "            latitude.append(str(x['venue']['lat']))\n",
    "            print(\"Latitude: \" + str(x['venue']['lng']))\n",
    "            city.append(str(x['location']['city']))\n",
    "            print(\"City: \" + str(x['location']['city']))\n",
    "            start_date.append(str(x['start']['date']))\n",
    "            print(\"Start Date: \"+ str(x['start']['date']))\n",
    "            start_time.append(str(x['start']['time']))\n",
    "            print(\"Start Time: \"+ str(x['start']['time']))\n",
    "            counter += 1"
   ]
  },
  {
   "cell_type": "code",
   "execution_count": null,
   "metadata": {},
   "outputs": [],
   "source": [
    "concert_info = pd.DataFrame({\"Event Name\": event_name,\n",
    "                             \"Location\": location,\n",
    "                             \"Longitude\": longitude,\n",
    "                             \"Latitude\": latitude,\n",
    "                             \"City\": city,\n",
    "                             \"Start Date\": start_date,\n",
    "                             \"Start Time\": start_time,\n",
    "                             \"Popularity\": popularity})\n",
    "concert_info = concert_info[[\"Event Name\", \"Location\", \"Start Date\", \"Start Time\", \"City\", \"Longitude\", \"Latitude\", \"Popularity\"]]\n",
    "concert_info"
   ]
  },
  {
   "cell_type": "code",
   "execution_count": null,
   "metadata": {},
   "outputs": [],
   "source": [
    "clean_concert_info = concert_info[(concert_info.Longitude != \"None\")]\n",
    "clean_concert_info.count()"
   ]
  },
  {
   "cell_type": "code",
   "execution_count": null,
   "metadata": {},
   "outputs": [],
   "source": [
    "clean_concert_info.to_csv(f\"Resources/concert_info_{artist}.csv\", index=False, header=True)"
   ]
  },
  {
   "cell_type": "code",
   "execution_count": null,
   "metadata": {},
   "outputs": [],
   "source": []
  }
 ],
 "metadata": {
  "kernelspec": {
   "display_name": "Python 3",
   "language": "python",
   "name": "python3"
  },
  "language_info": {
   "codemirror_mode": {
    "name": "ipython",
    "version": 3
   },
   "file_extension": ".py",
   "mimetype": "text/x-python",
   "name": "python",
   "nbconvert_exporter": "python",
   "pygments_lexer": "ipython3",
   "version": "3.6.4"
  }
 },
 "nbformat": 4,
 "nbformat_minor": 2
}
